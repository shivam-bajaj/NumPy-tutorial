{
 "cells": [
  {
   "cell_type": "markdown",
   "id": "6018b412-4266-4d59-8c89-1cbac10df975",
   "metadata": {},
   "source": [
    "# NumPy"
   ]
  },
  {
   "cell_type": "code",
   "execution_count": 2,
   "id": "b85b000b-6a44-4c2b-a128-9447f8de3347",
   "metadata": {},
   "outputs": [],
   "source": [
    "#import numpy library\n",
    "import numpy as np"
   ]
  },
  {
   "cell_type": "code",
   "execution_count": 3,
   "id": "34b4cc9b-d876-4220-9172-2b8c6ebfe84d",
   "metadata": {},
   "outputs": [
    {
     "data": {
      "text/plain": [
       "array([[[0.17746543, 0.96857614, 0.01738588, 0.55342423],\n",
       "        [0.59961796, 0.21465042, 0.37390348, 0.06352661],\n",
       "        [0.5345501 , 0.94567372, 0.72077933, 0.08870645]],\n",
       "\n",
       "       [[0.18820026, 0.7196094 , 0.969627  , 0.26649855],\n",
       "        [0.43193511, 0.77051314, 0.26580986, 0.15060651],\n",
       "        [0.35495663, 0.682798  , 0.29842213, 0.03272479]]])"
      ]
     },
     "execution_count": 3,
     "metadata": {},
     "output_type": "execute_result"
    }
   ],
   "source": [
    "arr = np.random.rand(2,3,4)\n",
    "arr"
   ]
  },
  {
   "cell_type": "code",
   "execution_count": 4,
   "id": "4607492d-865a-47bc-8cf3-f192e702a2c8",
   "metadata": {},
   "outputs": [
    {
     "data": {
      "text/plain": [
       "numpy.ndarray"
      ]
     },
     "execution_count": 4,
     "metadata": {},
     "output_type": "execute_result"
    }
   ],
   "source": [
    "type(arr)"
   ]
  },
  {
   "cell_type": "markdown",
   "id": "b40eaebf-5613-4faa-8570-281d3dc3f244",
   "metadata": {},
   "source": [
    "### NumPy - Array Attributes\n",
    "#### Basics"
   ]
  },
  {
   "cell_type": "code",
   "execution_count": 5,
   "id": "d31c1e20-45b1-49b4-b5b1-2d65dc1b7825",
   "metadata": {},
   "outputs": [
    {
     "data": {
      "text/plain": [
       "dtype('float64')"
      ]
     },
     "execution_count": 5,
     "metadata": {},
     "output_type": "execute_result"
    }
   ],
   "source": [
    "#type of element in array\n",
    "arr.dtype"
   ]
  },
  {
   "cell_type": "code",
   "execution_count": 6,
   "id": "53f7f356-1d6d-49f4-b93e-2e2b8dc11263",
   "metadata": {},
   "outputs": [
    {
     "data": {
      "text/plain": [
       "3"
      ]
     },
     "execution_count": 6,
     "metadata": {},
     "output_type": "execute_result"
    }
   ],
   "source": [
    "# axis or dimension of array\n",
    "arr.ndim"
   ]
  },
  {
   "cell_type": "code",
   "execution_count": 7,
   "id": "0c79fa13-d5c7-4a3d-acc5-463dd73d4bb7",
   "metadata": {},
   "outputs": [
    {
     "data": {
      "text/plain": [
       "(2, 3, 4)"
      ]
     },
     "execution_count": 7,
     "metadata": {},
     "output_type": "execute_result"
    }
   ],
   "source": [
    "arr.shape"
   ]
  },
  {
   "cell_type": "code",
   "execution_count": 8,
   "id": "04eefe9c-3973-441f-891c-16eb510c0e65",
   "metadata": {},
   "outputs": [
    {
     "data": {
      "text/plain": [
       "24"
      ]
     },
     "execution_count": 8,
     "metadata": {},
     "output_type": "execute_result"
    }
   ],
   "source": [
    "# size of array\n",
    "arr.size"
   ]
  },
  {
   "cell_type": "code",
   "execution_count": 9,
   "id": "3357fa31-5958-4431-9751-471dbaa5e234",
   "metadata": {},
   "outputs": [
    {
     "data": {
      "text/plain": [
       "8"
      ]
     },
     "execution_count": 9,
     "metadata": {},
     "output_type": "execute_result"
    }
   ],
   "source": [
    "#size in bytes of element in array\n",
    "arr.itemsize"
   ]
  },
  {
   "cell_type": "code",
   "execution_count": 10,
   "id": "d8d61776-9d35-46b7-8edb-3fdc91b895a8",
   "metadata": {},
   "outputs": [
    {
     "data": {
      "text/plain": [
       "192"
      ]
     },
     "execution_count": 10,
     "metadata": {},
     "output_type": "execute_result"
    }
   ],
   "source": [
    "arr.nbytes"
   ]
  },
  {
   "cell_type": "markdown",
   "id": "59c45b92-d79d-4280-861e-1bd88f4642ca",
   "metadata": {},
   "source": [
    "## Array Creation"
   ]
  },
  {
   "cell_type": "code",
   "execution_count": 11,
   "id": "8b19b70c-c87f-4f6b-9756-8acb706fab43",
   "metadata": {},
   "outputs": [
    {
     "data": {
      "text/plain": [
       "array([[[0.92058437, 0.31266414, 0.45934472, 0.41511736],\n",
       "        [0.08669698, 0.00341752, 0.43816371, 0.44191738],\n",
       "        [0.73326848, 0.75590586, 0.34821611, 0.90931552]],\n",
       "\n",
       "       [[0.71159705, 0.65192629, 0.39737857, 0.22860567],\n",
       "        [0.66272609, 0.71941685, 0.98470115, 0.63587404],\n",
       "        [0.29370519, 0.76088766, 0.5596954 , 0.813136  ]]])"
      ]
     },
     "execution_count": 11,
     "metadata": {},
     "output_type": "execute_result"
    }
   ],
   "source": [
    "arr2 = np.random.rand(2,3,4)\n",
    "arr2"
   ]
  },
  {
   "cell_type": "code",
   "execution_count": 12,
   "id": "68dc2adc-1a91-42f5-a348-b95052d3da11",
   "metadata": {},
   "outputs": [
    {
     "data": {
      "text/plain": [
       "array([[[0., 0., 0.],\n",
       "        [0., 0., 0.]],\n",
       "\n",
       "       [[0., 0., 0.],\n",
       "        [0., 0., 0.]]])"
      ]
     },
     "execution_count": 12,
     "metadata": {},
     "output_type": "execute_result"
    }
   ],
   "source": [
    "zeros = np.zeros((2,2,3))\n",
    "zeros"
   ]
  },
  {
   "cell_type": "code",
   "execution_count": 13,
   "id": "f0a3f795-5c00-47eb-90b7-ffe99fad8b06",
   "metadata": {},
   "outputs": [
    {
     "data": {
      "text/plain": [
       "array([[[7, 7, 7, 7],\n",
       "        [7, 7, 7, 7],\n",
       "        [7, 7, 7, 7]],\n",
       "\n",
       "       [[7, 7, 7, 7],\n",
       "        [7, 7, 7, 7],\n",
       "        [7, 7, 7, 7]]])"
      ]
     },
     "execution_count": 13,
     "metadata": {},
     "output_type": "execute_result"
    }
   ],
   "source": [
    "full = np.full((2,3,4),7)\n",
    "full"
   ]
  },
  {
   "cell_type": "code",
   "execution_count": 14,
   "id": "1d3a5921-8d80-4c92-a086-59b6e451d531",
   "metadata": {},
   "outputs": [
    {
     "data": {
      "text/plain": [
       "array([[[1., 1., 1.],\n",
       "        [1., 1., 1.],\n",
       "        [1., 1., 1.]],\n",
       "\n",
       "       [[1., 1., 1.],\n",
       "        [1., 1., 1.],\n",
       "        [1., 1., 1.]]])"
      ]
     },
     "execution_count": 14,
     "metadata": {},
     "output_type": "execute_result"
    }
   ],
   "source": [
    "ones = np.ones((2,3,3))\n",
    "ones"
   ]
  },
  {
   "cell_type": "code",
   "execution_count": 15,
   "id": "cecdfbd3-ee6d-4162-ad77-565567a83dc8",
   "metadata": {},
   "outputs": [
    {
     "data": {
      "text/plain": [
       "array([1, 2, 3, 4, 5, 6, 7, 8, 9])"
      ]
     },
     "execution_count": 15,
     "metadata": {},
     "output_type": "execute_result"
    }
   ],
   "source": [
    "#numpy.arrange(start, stop, step, dtype) \n",
    "arr3 = np.arange(1,10)\n",
    "arr3"
   ]
  },
  {
   "cell_type": "markdown",
   "id": "1a16c469-39d4-48e5-8c21-4b7e1d9c839a",
   "metadata": {},
   "source": [
    "### NumPy Array vs List Size"
   ]
  },
  {
   "cell_type": "code",
   "execution_count": 16,
   "id": "4b8e64fb-0d41-43df-b491-404d048ee37c",
   "metadata": {},
   "outputs": [],
   "source": [
    "l = [ i for i in range(0,100)]"
   ]
  },
  {
   "cell_type": "code",
   "execution_count": 17,
   "id": "1c8a97e7-4ce0-4ae8-b1f1-37bcffc4dd82",
   "metadata": {},
   "outputs": [
    {
     "data": {
      "text/plain": [
       "array([ 0,  1,  2,  3,  4,  5,  6,  7,  8,  9, 10, 11, 12, 13, 14, 15, 16,\n",
       "       17, 18, 19, 20, 21, 22, 23, 24, 25, 26, 27, 28, 29, 30, 31, 32, 33,\n",
       "       34, 35, 36, 37, 38, 39, 40, 41, 42, 43, 44, 45, 46, 47, 48, 49, 50,\n",
       "       51, 52, 53, 54, 55, 56, 57, 58, 59, 60, 61, 62, 63, 64, 65, 66, 67,\n",
       "       68, 69, 70, 71, 72, 73, 74, 75, 76, 77, 78, 79, 80, 81, 82, 83, 84,\n",
       "       85, 86, 87, 88, 89, 90, 91, 92, 93, 94, 95, 96, 97, 98, 99])"
      ]
     },
     "execution_count": 17,
     "metadata": {},
     "output_type": "execute_result"
    }
   ],
   "source": [
    "np_arr = np.arange(100)\n",
    "np_arr"
   ]
  },
  {
   "cell_type": "code",
   "execution_count": 18,
   "id": "8dd1adaa-7404-4fb6-8684-3385794472c1",
   "metadata": {},
   "outputs": [
    {
     "name": "stdout",
     "output_type": "stream",
     "text": [
      "size of list - 904\n",
      "size of numpy array - 504\n"
     ]
    }
   ],
   "source": [
    "import sys\n",
    "print(f\"size of list - {sys.getsizeof(l)}\")\n",
    "print(f\"size of numpy array - {sys.getsizeof(np_arr)}\")"
   ]
  },
  {
   "cell_type": "code",
   "execution_count": 19,
   "id": "592dc3b1-61b5-44c8-bb4d-458b907a584d",
   "metadata": {},
   "outputs": [
    {
     "data": {
      "text/plain": [
       "400"
      ]
     },
     "execution_count": 19,
     "metadata": {},
     "output_type": "execute_result"
    }
   ],
   "source": [
    "#np_arr.size*np_arr.itemsize -> 100*4\n",
    "np_arr.nbytes"
   ]
  },
  {
   "cell_type": "markdown",
   "id": "4de4d2e9-678a-4f72-9e71-dc11add33b72",
   "metadata": {},
   "source": [
    "#### NumPy Array"
   ]
  },
  {
   "cell_type": "code",
   "execution_count": 20,
   "id": "ec25d015-0953-47f7-8746-92e0e27ad97e",
   "metadata": {},
   "outputs": [
    {
     "data": {
      "text/plain": [
       "array([1.+0.j, 2.+0.j, 3.+0.j, 4.+0.j])"
      ]
     },
     "execution_count": 20,
     "metadata": {},
     "output_type": "execute_result"
    }
   ],
   "source": [
    "#numpy.array(object, dtype=None, copy=True, order='K', subok=False, ndmin=0)\n",
    "np.array([1,2,3,4],dtype=complex)"
   ]
  },
  {
   "cell_type": "markdown",
   "id": "71e22314-d428-4e01-8e5f-fa94db339492",
   "metadata": {},
   "source": [
    "#### np.array or np.asarray\n",
    "##### np.array creates copy of the object(copy = True) and does not reflect changes of orignal obj whereas np.asarray refelect changes"
   ]
  },
  {
   "cell_type": "code",
   "execution_count": 21,
   "id": "52295c5a-bbf3-4746-84d9-7e04c4cace2e",
   "metadata": {},
   "outputs": [
    {
     "name": "stdout",
     "output_type": "stream",
     "text": [
      "orignal array - [1 2 3 4 5]\n",
      "After changes at index 1=0\n",
      "np.array - [1 2 3 4 5]\n",
      "np.asarray - [1 0 3 4 5]\n"
     ]
    }
   ],
   "source": [
    "a = np.array([1,2,3,4,5])\n",
    "print(f\"orignal array - {a}\")\n",
    "np_array = np.array(a)\n",
    "np_asarray = np.asarray(a)\n",
    "a[1]=0\n",
    "print(\"After changes at index 1=0\")\n",
    "print(f\"np.array - {np_array}\")\n",
    "print(f\"np.asarray - {np_asarray}\")"
   ]
  },
  {
   "cell_type": "markdown",
   "id": "c61f6919-48fa-414c-8af6-dbb7f6112636",
   "metadata": {},
   "source": [
    "### Indexing, Slicing, Updating"
   ]
  },
  {
   "cell_type": "code",
   "execution_count": 22,
   "id": "acfba959-ac54-4864-b7e0-43e92240f7e5",
   "metadata": {},
   "outputs": [
    {
     "data": {
      "text/plain": [
       "array([[[0.17746543, 0.96857614, 0.01738588, 0.55342423],\n",
       "        [0.59961796, 0.21465042, 0.37390348, 0.06352661],\n",
       "        [0.5345501 , 0.94567372, 0.72077933, 0.08870645]],\n",
       "\n",
       "       [[0.18820026, 0.7196094 , 0.969627  , 0.26649855],\n",
       "        [0.43193511, 0.77051314, 0.26580986, 0.15060651],\n",
       "        [0.35495663, 0.682798  , 0.29842213, 0.03272479]]])"
      ]
     },
     "execution_count": 22,
     "metadata": {},
     "output_type": "execute_result"
    }
   ],
   "source": [
    "arr"
   ]
  },
  {
   "cell_type": "code",
   "execution_count": 23,
   "id": "8a862714-3344-40f6-8d71-24cebc0c19f3",
   "metadata": {},
   "outputs": [
    {
     "data": {
      "text/plain": [
       "0.017385875319153254"
      ]
     },
     "execution_count": 23,
     "metadata": {},
     "output_type": "execute_result"
    }
   ],
   "source": [
    "#Indexing\n",
    "arr[0][0][2]"
   ]
  },
  {
   "cell_type": "code",
   "execution_count": 24,
   "id": "1d3ea69b-36a6-4bc7-8891-7125ef860d23",
   "metadata": {},
   "outputs": [
    {
     "data": {
      "text/plain": [
       "array([[[1.        , 0.96857614, 0.01738588, 0.55342423],\n",
       "        [0.59961796, 0.21465042, 0.37390348, 0.06352661],\n",
       "        [0.5345501 , 0.94567372, 0.72077933, 0.08870645]],\n",
       "\n",
       "       [[0.18820026, 0.7196094 , 0.969627  , 0.26649855],\n",
       "        [0.43193511, 0.77051314, 0.26580986, 0.15060651],\n",
       "        [0.35495663, 0.682798  , 0.29842213, 0.03272479]]])"
      ]
     },
     "execution_count": 24,
     "metadata": {},
     "output_type": "execute_result"
    }
   ],
   "source": [
    "# accessing and updating element\n",
    "arr[0][0][0] =1\n",
    "arr"
   ]
  },
  {
   "cell_type": "code",
   "execution_count": 25,
   "id": "9ba8a0ad-2c0f-49c3-abaa-1d41be6244eb",
   "metadata": {},
   "outputs": [
    {
     "data": {
      "text/plain": [
       "array([0.43193511, 0.77051314, 0.26580986, 0.15060651])"
      ]
     },
     "execution_count": 25,
     "metadata": {},
     "output_type": "execute_result"
    }
   ],
   "source": [
    "# slicing\n",
    "arr[1][1]"
   ]
  },
  {
   "cell_type": "code",
   "execution_count": 26,
   "id": "7326ed32-fb2e-402e-b5b6-3b1d2b3089bd",
   "metadata": {},
   "outputs": [
    {
     "data": {
      "text/plain": [
       "0.7705131359359886"
      ]
     },
     "execution_count": 26,
     "metadata": {},
     "output_type": "execute_result"
    }
   ],
   "source": [
    "arr[1][1:][0,1]"
   ]
  },
  {
   "cell_type": "code",
   "execution_count": 27,
   "id": "64c77671-edd5-4b35-a6d3-0980038631c2",
   "metadata": {},
   "outputs": [
    {
     "data": {
      "text/plain": [
       "array([[0.77051314, 0.26580986, 0.15060651],\n",
       "       [0.682798  , 0.29842213, 0.03272479]])"
      ]
     },
     "execution_count": 27,
     "metadata": {},
     "output_type": "execute_result"
    }
   ],
   "source": [
    "arr[1][1:,1:]"
   ]
  },
  {
   "cell_type": "code",
   "execution_count": 28,
   "id": "49e00770-1e36-4cb8-86e4-32e248150725",
   "metadata": {},
   "outputs": [
    {
     "data": {
      "text/plain": [
       "array([[0.26580986, 0.15060651],\n",
       "       [0.29842213, 0.03272479]])"
      ]
     },
     "execution_count": 28,
     "metadata": {},
     "output_type": "execute_result"
    }
   ],
   "source": [
    "arr[1][1:,2:]"
   ]
  },
  {
   "cell_type": "code",
   "execution_count": 29,
   "id": "39e80aca-2ab3-44cf-8f20-e79a60acdd2b",
   "metadata": {},
   "outputs": [],
   "source": [
    "a = np.array([[1,2,3,4],[2,4,5,6],[10,20,39,3]])  \n",
    "b = np.array([2,4,6,8])"
   ]
  },
  {
   "cell_type": "code",
   "execution_count": 30,
   "id": "de2a371b-1152-48e9-ab16-452544f28739",
   "metadata": {},
   "outputs": [
    {
     "data": {
      "text/plain": [
       "array([[ 3,  6,  9, 12],\n",
       "       [ 4,  8, 11, 14],\n",
       "       [12, 24, 45, 11]])"
      ]
     },
     "execution_count": 30,
     "metadata": {},
     "output_type": "execute_result"
    }
   ],
   "source": [
    "a+b"
   ]
  },
  {
   "cell_type": "markdown",
   "id": "bfad9a98-c6b1-492f-b0bb-93776abdc8cc",
   "metadata": {},
   "source": [
    "### Broadcasting"
   ]
  },
  {
   "cell_type": "markdown",
   "id": "7f29494d-aa77-47e5-b9cc-bdf3aa3178bb",
   "metadata": {},
   "source": [
    "The term broadcasting refers to how numpy treats arrays with different Dimension during arithmetic operations which lead to certain constraints, the smaller array is broadcast across the larger array so that they have compatible shapes. "
   ]
  },
  {
   "cell_type": "code",
   "execution_count": 34,
   "id": "e23a5dc7-a22c-4789-a906-4e8192845e85",
   "metadata": {},
   "outputs": [
    {
     "data": {
      "text/plain": [
       "array([[  2,   8,  18,  32],\n",
       "       [  4,  16,  30,  48],\n",
       "       [ 20,  80, 234,  24]])"
      ]
     },
     "execution_count": 34,
     "metadata": {},
     "output_type": "execute_result"
    }
   ],
   "source": [
    "a = np.array([[1,2,3,4],[2,4,5,6],[10,20,39,3]])  \n",
    "b = np.array([2,4,6,8])\n",
    "a*b"
   ]
  },
  {
   "cell_type": "code",
   "execution_count": 35,
   "id": "934ebb30-db43-4a90-aed2-3451523a76fd",
   "metadata": {},
   "outputs": [
    {
     "data": {
      "text/plain": [
       "array([[ 1,  2,  3,  4],\n",
       "       [ 2,  4,  5,  6],\n",
       "       [10, 20, 39,  3]])"
      ]
     },
     "execution_count": 35,
     "metadata": {},
     "output_type": "execute_result"
    }
   ],
   "source": [
    "a"
   ]
  },
  {
   "cell_type": "code",
   "execution_count": 39,
   "id": "f745d240-2378-44c8-a206-72803b07dfca",
   "metadata": {},
   "outputs": [
    {
     "ename": "ValueError",
     "evalue": "operands could not be broadcast together with shapes (2,3,2) (4,) ",
     "output_type": "error",
     "traceback": [
      "\u001b[1;31m---------------------------------------------------------------------------\u001b[0m",
      "\u001b[1;31mValueError\u001b[0m                                Traceback (most recent call last)",
      "\u001b[1;32m<ipython-input-39-ef1798411743>\u001b[0m in \u001b[0;36m<module>\u001b[1;34m\u001b[0m\n\u001b[1;32m----> 1\u001b[1;33m \u001b[0ma\u001b[0m\u001b[1;33m.\u001b[0m\u001b[0mreshape\u001b[0m\u001b[1;33m(\u001b[0m\u001b[1;36m2\u001b[0m\u001b[1;33m,\u001b[0m\u001b[1;36m3\u001b[0m\u001b[1;33m,\u001b[0m\u001b[1;36m2\u001b[0m\u001b[1;33m)\u001b[0m \u001b[1;33m+\u001b[0m\u001b[0mb\u001b[0m\u001b[1;33m\u001b[0m\u001b[1;33m\u001b[0m\u001b[0m\n\u001b[0m",
      "\u001b[1;31mValueError\u001b[0m: operands could not be broadcast together with shapes (2,3,2) (4,) "
     ]
    }
   ],
   "source": [
    "a.reshape(2,3,2)"
   ]
  },
  {
   "cell_type": "code",
   "execution_count": 38,
   "id": "fefa6c3e-f1dc-4406-a5d2-109bafa669d2",
   "metadata": {},
   "outputs": [
    {
     "data": {
      "text/plain": [
       "array([[ 1,  2,  3,  4],\n",
       "       [ 2,  4,  5,  6],\n",
       "       [10, 20, 39,  3]])"
      ]
     },
     "execution_count": 38,
     "metadata": {},
     "output_type": "execute_result"
    }
   ],
   "source": [
    "a"
   ]
  },
  {
   "cell_type": "code",
   "execution_count": null,
   "id": "92c1e044-40a5-4ae8-a5a4-160d2b92165f",
   "metadata": {},
   "outputs": [],
   "source": []
  }
 ],
 "metadata": {
  "kernelspec": {
   "display_name": "Python 3",
   "language": "python",
   "name": "python3"
  },
  "language_info": {
   "codemirror_mode": {
    "name": "ipython",
    "version": 3
   },
   "file_extension": ".py",
   "mimetype": "text/x-python",
   "name": "python",
   "nbconvert_exporter": "python",
   "pygments_lexer": "ipython3",
   "version": "3.8.8"
  }
 },
 "nbformat": 4,
 "nbformat_minor": 5
}

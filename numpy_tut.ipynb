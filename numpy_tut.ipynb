{
 "cells": [
  {
   "cell_type": "markdown",
   "id": "6018b412-4266-4d59-8c89-1cbac10df975",
   "metadata": {},
   "source": [
    "# NumPy"
   ]
  },
  {
   "cell_type": "code",
   "execution_count": 2,
   "id": "b85b000b-6a44-4c2b-a128-9447f8de3347",
   "metadata": {},
   "outputs": [],
   "source": [
    "#import numpy library\n",
    "import numpy as np"
   ]
  },
  {
   "cell_type": "code",
   "execution_count": 3,
   "id": "34b4cc9b-d876-4220-9172-2b8c6ebfe84d",
   "metadata": {},
   "outputs": [
    {
     "data": {
      "text/plain": [
       "array([[[0.6189667 , 0.95514695, 0.67530719, 0.63897178],\n",
       "        [0.06427125, 0.19588104, 0.1880573 , 0.42376327],\n",
       "        [0.65704405, 0.43776863, 0.54232495, 0.71747558]],\n",
       "\n",
       "       [[0.11647397, 0.47194714, 0.4075876 , 0.88064441],\n",
       "        [0.53391144, 0.12239148, 0.70446607, 0.99467284],\n",
       "        [0.98191734, 0.07113149, 0.13806291, 0.49812636]]])"
      ]
     },
     "execution_count": 3,
     "metadata": {},
     "output_type": "execute_result"
    }
   ],
   "source": [
    "arr = np.random.rand(2,3,4)\n",
    "arr"
   ]
  },
  {
   "cell_type": "code",
   "execution_count": 4,
   "id": "4607492d-865a-47bc-8cf3-f192e702a2c8",
   "metadata": {},
   "outputs": [
    {
     "data": {
      "text/plain": [
       "numpy.ndarray"
      ]
     },
     "execution_count": 4,
     "metadata": {},
     "output_type": "execute_result"
    }
   ],
   "source": [
    "type(arr)"
   ]
  },
  {
   "cell_type": "markdown",
   "id": "b40eaebf-5613-4faa-8570-281d3dc3f244",
   "metadata": {},
   "source": [
    "### NumPy - Array Attributes\n",
    "#### Basics"
   ]
  },
  {
   "cell_type": "code",
   "execution_count": 5,
   "id": "d31c1e20-45b1-49b4-b5b1-2d65dc1b7825",
   "metadata": {},
   "outputs": [
    {
     "data": {
      "text/plain": [
       "dtype('float64')"
      ]
     },
     "execution_count": 5,
     "metadata": {},
     "output_type": "execute_result"
    }
   ],
   "source": [
    "#type of element in array\n",
    "arr.dtype"
   ]
  },
  {
   "cell_type": "code",
   "execution_count": 6,
   "id": "53f7f356-1d6d-49f4-b93e-2e2b8dc11263",
   "metadata": {},
   "outputs": [
    {
     "data": {
      "text/plain": [
       "3"
      ]
     },
     "execution_count": 6,
     "metadata": {},
     "output_type": "execute_result"
    }
   ],
   "source": [
    "# axis or dimension of array\n",
    "arr.ndim"
   ]
  },
  {
   "cell_type": "code",
   "execution_count": 7,
   "id": "0c79fa13-d5c7-4a3d-acc5-463dd73d4bb7",
   "metadata": {},
   "outputs": [
    {
     "data": {
      "text/plain": [
       "(2, 3, 4)"
      ]
     },
     "execution_count": 7,
     "metadata": {},
     "output_type": "execute_result"
    }
   ],
   "source": [
    "arr.shape"
   ]
  },
  {
   "cell_type": "code",
   "execution_count": 8,
   "id": "04eefe9c-3973-441f-891c-16eb510c0e65",
   "metadata": {},
   "outputs": [
    {
     "data": {
      "text/plain": [
       "24"
      ]
     },
     "execution_count": 8,
     "metadata": {},
     "output_type": "execute_result"
    }
   ],
   "source": [
    "# size of array\n",
    "arr.size"
   ]
  },
  {
   "cell_type": "code",
   "execution_count": 9,
   "id": "3357fa31-5958-4431-9751-471dbaa5e234",
   "metadata": {},
   "outputs": [
    {
     "data": {
      "text/plain": [
       "8"
      ]
     },
     "execution_count": 9,
     "metadata": {},
     "output_type": "execute_result"
    }
   ],
   "source": [
    "#size in bytes of element in array\n",
    "arr.itemsize"
   ]
  },
  {
   "cell_type": "code",
   "execution_count": 10,
   "id": "d8d61776-9d35-46b7-8edb-3fdc91b895a8",
   "metadata": {},
   "outputs": [
    {
     "data": {
      "text/plain": [
       "192"
      ]
     },
     "execution_count": 10,
     "metadata": {},
     "output_type": "execute_result"
    }
   ],
   "source": [
    "arr.nbytes"
   ]
  },
  {
   "cell_type": "markdown",
   "id": "59c45b92-d79d-4280-861e-1bd88f4642ca",
   "metadata": {},
   "source": [
    "## Array Creation"
   ]
  },
  {
   "cell_type": "code",
   "execution_count": 11,
   "id": "8b19b70c-c87f-4f6b-9756-8acb706fab43",
   "metadata": {},
   "outputs": [
    {
     "data": {
      "text/plain": [
       "array([[[0.76215635, 0.62101674, 0.55851139, 0.23789893],\n",
       "        [0.91763289, 0.4120791 , 0.85129704, 0.78604442],\n",
       "        [0.52537796, 0.13761199, 0.40844854, 0.92747484]],\n",
       "\n",
       "       [[0.66890544, 0.6338254 , 0.7546398 , 0.625699  ],\n",
       "        [0.25659201, 0.84627535, 0.14020072, 0.79437444],\n",
       "        [0.97855293, 0.53219437, 0.52034994, 0.89169587]]])"
      ]
     },
     "execution_count": 11,
     "metadata": {},
     "output_type": "execute_result"
    }
   ],
   "source": [
    "arr2 = np.random.rand(2,3,4)\n",
    "arr2"
   ]
  },
  {
   "cell_type": "code",
   "execution_count": 12,
   "id": "68dc2adc-1a91-42f5-a348-b95052d3da11",
   "metadata": {},
   "outputs": [
    {
     "data": {
      "text/plain": [
       "array([[[0., 0., 0.],\n",
       "        [0., 0., 0.]],\n",
       "\n",
       "       [[0., 0., 0.],\n",
       "        [0., 0., 0.]]])"
      ]
     },
     "execution_count": 12,
     "metadata": {},
     "output_type": "execute_result"
    }
   ],
   "source": [
    "zeros = np.zeros((2,2,3))\n",
    "zeros"
   ]
  },
  {
   "cell_type": "code",
   "execution_count": 13,
   "id": "f0a3f795-5c00-47eb-90b7-ffe99fad8b06",
   "metadata": {},
   "outputs": [
    {
     "data": {
      "text/plain": [
       "array([[[7, 7, 7, 7],\n",
       "        [7, 7, 7, 7],\n",
       "        [7, 7, 7, 7]],\n",
       "\n",
       "       [[7, 7, 7, 7],\n",
       "        [7, 7, 7, 7],\n",
       "        [7, 7, 7, 7]]])"
      ]
     },
     "execution_count": 13,
     "metadata": {},
     "output_type": "execute_result"
    }
   ],
   "source": [
    "full = np.full((2,3,4),7)\n",
    "full"
   ]
  },
  {
   "cell_type": "code",
   "execution_count": 14,
   "id": "1d3a5921-8d80-4c92-a086-59b6e451d531",
   "metadata": {},
   "outputs": [
    {
     "data": {
      "text/plain": [
       "array([[[1., 1., 1.],\n",
       "        [1., 1., 1.],\n",
       "        [1., 1., 1.]],\n",
       "\n",
       "       [[1., 1., 1.],\n",
       "        [1., 1., 1.],\n",
       "        [1., 1., 1.]]])"
      ]
     },
     "execution_count": 14,
     "metadata": {},
     "output_type": "execute_result"
    }
   ],
   "source": [
    "ones = np.ones((2,3,3))\n",
    "ones"
   ]
  },
  {
   "cell_type": "code",
   "execution_count": 15,
   "id": "cecdfbd3-ee6d-4162-ad77-565567a83dc8",
   "metadata": {},
   "outputs": [
    {
     "data": {
      "text/plain": [
       "array([1, 2, 3, 4, 5, 6, 7, 8, 9])"
      ]
     },
     "execution_count": 15,
     "metadata": {},
     "output_type": "execute_result"
    }
   ],
   "source": [
    "#numpy.arrange(start, stop, step, dtype) \n",
    "arr3 = np.arange(1,10)\n",
    "arr3"
   ]
  },
  {
   "cell_type": "markdown",
   "id": "1a16c469-39d4-48e5-8c21-4b7e1d9c839a",
   "metadata": {},
   "source": [
    "### NumPy Array vs List Size"
   ]
  },
  {
   "cell_type": "code",
   "execution_count": 16,
   "id": "4b8e64fb-0d41-43df-b491-404d048ee37c",
   "metadata": {},
   "outputs": [],
   "source": [
    "l = [ i for i in range(0,100)]"
   ]
  },
  {
   "cell_type": "code",
   "execution_count": 17,
   "id": "1c8a97e7-4ce0-4ae8-b1f1-37bcffc4dd82",
   "metadata": {},
   "outputs": [
    {
     "data": {
      "text/plain": [
       "array([ 0,  1,  2,  3,  4,  5,  6,  7,  8,  9, 10, 11, 12, 13, 14, 15, 16,\n",
       "       17, 18, 19, 20, 21, 22, 23, 24, 25, 26, 27, 28, 29, 30, 31, 32, 33,\n",
       "       34, 35, 36, 37, 38, 39, 40, 41, 42, 43, 44, 45, 46, 47, 48, 49, 50,\n",
       "       51, 52, 53, 54, 55, 56, 57, 58, 59, 60, 61, 62, 63, 64, 65, 66, 67,\n",
       "       68, 69, 70, 71, 72, 73, 74, 75, 76, 77, 78, 79, 80, 81, 82, 83, 84,\n",
       "       85, 86, 87, 88, 89, 90, 91, 92, 93, 94, 95, 96, 97, 98, 99])"
      ]
     },
     "execution_count": 17,
     "metadata": {},
     "output_type": "execute_result"
    }
   ],
   "source": [
    "np_arr = np.arange(100)\n",
    "np_arr"
   ]
  },
  {
   "cell_type": "code",
   "execution_count": 18,
   "id": "8dd1adaa-7404-4fb6-8684-3385794472c1",
   "metadata": {},
   "outputs": [
    {
     "name": "stdout",
     "output_type": "stream",
     "text": [
      "size of list - 904\n",
      "size of numpy array - 504\n"
     ]
    }
   ],
   "source": [
    "import sys\n",
    "print(f\"size of list - {sys.getsizeof(l)}\")\n",
    "print(f\"size of numpy array - {sys.getsizeof(np_arr)}\")"
   ]
  },
  {
   "cell_type": "code",
   "execution_count": 19,
   "id": "592dc3b1-61b5-44c8-bb4d-458b907a584d",
   "metadata": {},
   "outputs": [
    {
     "data": {
      "text/plain": [
       "400"
      ]
     },
     "execution_count": 19,
     "metadata": {},
     "output_type": "execute_result"
    }
   ],
   "source": [
    "#np_arr.size*np_arr.itemsize -> 100*4\n",
    "np_arr.nbytes"
   ]
  },
  {
   "cell_type": "markdown",
   "id": "4de4d2e9-678a-4f72-9e71-dc11add33b72",
   "metadata": {},
   "source": [
    "#### NumPy Array"
   ]
  },
  {
   "cell_type": "code",
   "execution_count": 20,
   "id": "ec25d015-0953-47f7-8746-92e0e27ad97e",
   "metadata": {},
   "outputs": [
    {
     "data": {
      "text/plain": [
       "array([1.+0.j, 2.+0.j, 3.+0.j, 4.+0.j])"
      ]
     },
     "execution_count": 20,
     "metadata": {},
     "output_type": "execute_result"
    }
   ],
   "source": [
    "#numpy.array(object, dtype=None, copy=True, order='K', subok=False, ndmin=0)\n",
    "np.array([1,2,3,4],dtype=complex)"
   ]
  },
  {
   "cell_type": "markdown",
   "id": "71e22314-d428-4e01-8e5f-fa94db339492",
   "metadata": {},
   "source": [
    "#### np.array or np.asarray\n",
    "##### np.array creates copy of the object(copy = True) and does not reflect changes of orignal obj whereas np.asarray refelect changes"
   ]
  },
  {
   "cell_type": "code",
   "execution_count": 21,
   "id": "52295c5a-bbf3-4746-84d9-7e04c4cace2e",
   "metadata": {},
   "outputs": [
    {
     "name": "stdout",
     "output_type": "stream",
     "text": [
      "orignal array - [1 2 3 4 5]\n",
      "After changes at index 1=0\n",
      "np.array - [1 2 3 4 5]\n",
      "np.asarray - [1 0 3 4 5]\n"
     ]
    }
   ],
   "source": [
    "a = np.array([1,2,3,4,5])\n",
    "print(f\"orignal array - {a}\")\n",
    "np_array = np.array(a)\n",
    "np_asarray = np.asarray(a)\n",
    "a[1]=0\n",
    "print(\"After changes at index 1=0\")\n",
    "print(f\"np.array - {np_array}\")\n",
    "print(f\"np.asarray - {np_asarray}\")"
   ]
  },
  {
   "cell_type": "markdown",
   "id": "c61f6919-48fa-414c-8af6-dbb7f6112636",
   "metadata": {},
   "source": [
    "### Indexing, Slicing, Updating"
   ]
  },
  {
   "cell_type": "code",
   "execution_count": 22,
   "id": "acfba959-ac54-4864-b7e0-43e92240f7e5",
   "metadata": {},
   "outputs": [
    {
     "data": {
      "text/plain": [
       "array([[[0.6189667 , 0.95514695, 0.67530719, 0.63897178],\n",
       "        [0.06427125, 0.19588104, 0.1880573 , 0.42376327],\n",
       "        [0.65704405, 0.43776863, 0.54232495, 0.71747558]],\n",
       "\n",
       "       [[0.11647397, 0.47194714, 0.4075876 , 0.88064441],\n",
       "        [0.53391144, 0.12239148, 0.70446607, 0.99467284],\n",
       "        [0.98191734, 0.07113149, 0.13806291, 0.49812636]]])"
      ]
     },
     "execution_count": 22,
     "metadata": {},
     "output_type": "execute_result"
    }
   ],
   "source": [
    "arr"
   ]
  },
  {
   "cell_type": "code",
   "execution_count": 23,
   "id": "8a862714-3344-40f6-8d71-24cebc0c19f3",
   "metadata": {},
   "outputs": [
    {
     "data": {
      "text/plain": [
       "0.675307189692305"
      ]
     },
     "execution_count": 23,
     "metadata": {},
     "output_type": "execute_result"
    }
   ],
   "source": [
    "#Indexing\n",
    "arr[0][0][2]"
   ]
  },
  {
   "cell_type": "code",
   "execution_count": 24,
   "id": "1d3ea69b-36a6-4bc7-8891-7125ef860d23",
   "metadata": {},
   "outputs": [
    {
     "data": {
      "text/plain": [
       "array([[[1.        , 0.95514695, 0.67530719, 0.63897178],\n",
       "        [0.06427125, 0.19588104, 0.1880573 , 0.42376327],\n",
       "        [0.65704405, 0.43776863, 0.54232495, 0.71747558]],\n",
       "\n",
       "       [[0.11647397, 0.47194714, 0.4075876 , 0.88064441],\n",
       "        [0.53391144, 0.12239148, 0.70446607, 0.99467284],\n",
       "        [0.98191734, 0.07113149, 0.13806291, 0.49812636]]])"
      ]
     },
     "execution_count": 24,
     "metadata": {},
     "output_type": "execute_result"
    }
   ],
   "source": [
    "# accessing and updating element\n",
    "arr[0][0][0] =1\n",
    "arr"
   ]
  },
  {
   "cell_type": "code",
   "execution_count": 25,
   "id": "9ba8a0ad-2c0f-49c3-abaa-1d41be6244eb",
   "metadata": {},
   "outputs": [
    {
     "data": {
      "text/plain": [
       "array([0.53391144, 0.12239148, 0.70446607, 0.99467284])"
      ]
     },
     "execution_count": 25,
     "metadata": {},
     "output_type": "execute_result"
    }
   ],
   "source": [
    "# slicing\n",
    "arr[1][1]"
   ]
  },
  {
   "cell_type": "code",
   "execution_count": 26,
   "id": "7326ed32-fb2e-402e-b5b6-3b1d2b3089bd",
   "metadata": {},
   "outputs": [
    {
     "data": {
      "text/plain": [
       "0.12239148473381367"
      ]
     },
     "execution_count": 26,
     "metadata": {},
     "output_type": "execute_result"
    }
   ],
   "source": [
    "arr[1][1:][0,1]"
   ]
  },
  {
   "cell_type": "code",
   "execution_count": 27,
   "id": "64c77671-edd5-4b35-a6d3-0980038631c2",
   "metadata": {},
   "outputs": [
    {
     "data": {
      "text/plain": [
       "array([[0.12239148, 0.70446607, 0.99467284],\n",
       "       [0.07113149, 0.13806291, 0.49812636]])"
      ]
     },
     "execution_count": 27,
     "metadata": {},
     "output_type": "execute_result"
    }
   ],
   "source": [
    "arr[1][1:,1:]"
   ]
  },
  {
   "cell_type": "code",
   "execution_count": 28,
   "id": "49e00770-1e36-4cb8-86e4-32e248150725",
   "metadata": {},
   "outputs": [
    {
     "data": {
      "text/plain": [
       "array([[0.70446607, 0.99467284],\n",
       "       [0.13806291, 0.49812636]])"
      ]
     },
     "execution_count": 28,
     "metadata": {},
     "output_type": "execute_result"
    }
   ],
   "source": [
    "arr[1][1:,2:]"
   ]
  },
  {
   "cell_type": "code",
   "execution_count": 29,
   "id": "39e80aca-2ab3-44cf-8f20-e79a60acdd2b",
   "metadata": {},
   "outputs": [],
   "source": [
    "a = np.array([[1,2,3,4],[2,4,5,6],[10,20,39,3]])  \n",
    "b = np.array([2,4,6,8])"
   ]
  },
  {
   "cell_type": "code",
   "execution_count": 30,
   "id": "de2a371b-1152-48e9-ab16-452544f28739",
   "metadata": {},
   "outputs": [
    {
     "data": {
      "text/plain": [
       "array([[ 3,  6,  9, 12],\n",
       "       [ 4,  8, 11, 14],\n",
       "       [12, 24, 45, 11]])"
      ]
     },
     "execution_count": 30,
     "metadata": {},
     "output_type": "execute_result"
    }
   ],
   "source": [
    "a+b"
   ]
  },
  {
   "cell_type": "markdown",
   "id": "bfad9a98-c6b1-492f-b0bb-93776abdc8cc",
   "metadata": {},
   "source": [
    "### Broadcasting"
   ]
  },
  {
   "cell_type": "markdown",
   "id": "7f29494d-aa77-47e5-b9cc-bdf3aa3178bb",
   "metadata": {},
   "source": [
    "The term broadcasting refers to how numpy treats arrays with different Dimension during arithmetic operations which lead to certain constraints, the smaller array is broadcast across the larger array so that they have compatible shapes. "
   ]
  },
  {
   "cell_type": "code",
   "execution_count": 31,
   "id": "e23a5dc7-a22c-4789-a906-4e8192845e85",
   "metadata": {},
   "outputs": [
    {
     "data": {
      "text/plain": [
       "array([[  2,   8,  18,  32],\n",
       "       [  4,  16,  30,  48],\n",
       "       [ 20,  80, 234,  24]])"
      ]
     },
     "execution_count": 31,
     "metadata": {},
     "output_type": "execute_result"
    }
   ],
   "source": [
    "a = np.array([[1,2,3,4],[2,4,5,6],[10,20,39,3]])  \n",
    "b = np.array([2,4,6,8])\n",
    "a*b"
   ]
  },
  {
   "cell_type": "code",
   "execution_count": 32,
   "id": "934ebb30-db43-4a90-aed2-3451523a76fd",
   "metadata": {},
   "outputs": [
    {
     "data": {
      "text/plain": [
       "array([[[1., 1.],\n",
       "        [1., 1.]],\n",
       "\n",
       "       [[1., 1.],\n",
       "        [1., 1.]]])"
      ]
     },
     "execution_count": 32,
     "metadata": {},
     "output_type": "execute_result"
    }
   ],
   "source": [
    "a = np.ones((2,2,2))\n",
    "a"
   ]
  },
  {
   "cell_type": "code",
   "execution_count": 33,
   "id": "f745d240-2378-44c8-a206-72803b07dfca",
   "metadata": {},
   "outputs": [
    {
     "data": {
      "text/plain": [
       "array([[0.66578775, 0.64918897]])"
      ]
     },
     "execution_count": 33,
     "metadata": {},
     "output_type": "execute_result"
    }
   ],
   "source": [
    "b=np.random.rand(1,2)\n",
    "b"
   ]
  },
  {
   "cell_type": "code",
   "execution_count": 34,
   "id": "fefa6c3e-f1dc-4406-a5d2-109bafa669d2",
   "metadata": {},
   "outputs": [
    {
     "data": {
      "text/plain": [
       "array([[[0.66578775, 0.64918897],\n",
       "        [0.66578775, 0.64918897]],\n",
       "\n",
       "       [[0.66578775, 0.64918897],\n",
       "        [0.66578775, 0.64918897]]])"
      ]
     },
     "execution_count": 34,
     "metadata": {},
     "output_type": "execute_result"
    }
   ],
   "source": [
    "a*b"
   ]
  },
  {
   "cell_type": "code",
   "execution_count": 35,
   "id": "92c1e044-40a5-4ae8-a5a4-160d2b92165f",
   "metadata": {},
   "outputs": [
    {
     "data": {
      "text/plain": [
       "array([[1.],\n",
       "       [1.],\n",
       "       [1.],\n",
       "       [1.],\n",
       "       [1.]])"
      ]
     },
     "execution_count": 35,
     "metadata": {},
     "output_type": "execute_result"
    }
   ],
   "source": [
    "c= np.ones((5,1))\n",
    "c"
   ]
  },
  {
   "cell_type": "code",
   "execution_count": 36,
   "id": "472f5c77-5521-4c05-bf9b-ebbf125888d8",
   "metadata": {},
   "outputs": [
    {
     "data": {
      "text/plain": [
       "array([[1., 1., 1., 1., 1., 1.]])"
      ]
     },
     "execution_count": 36,
     "metadata": {},
     "output_type": "execute_result"
    }
   ],
   "source": [
    "d= np.ones((1,6))\n",
    "d"
   ]
  },
  {
   "cell_type": "markdown",
   "id": "41ac9059-ef17-4fd8-ac6a-6297adae00ba",
   "metadata": {},
   "source": [
    "c (5x1) and d (1x6) can be broadcasted "
   ]
  },
  {
   "cell_type": "code",
   "execution_count": 37,
   "id": "3a3df0cd-d4b6-47d0-bf88-0777cabc5bc0",
   "metadata": {},
   "outputs": [
    {
     "name": "stdout",
     "output_type": "stream",
     "text": [
      "[[2. 2. 2. 2. 2. 2.]\n",
      " [2. 2. 2. 2. 2. 2.]\n",
      " [2. 2. 2. 2. 2. 2.]\n",
      " [2. 2. 2. 2. 2. 2.]\n",
      " [2. 2. 2. 2. 2. 2.]]\n",
      "shape of array (5, 6)\n"
     ]
    }
   ],
   "source": [
    "print(c+d)\n",
    "print(f\"shape of array {(c+d).shape}\")"
   ]
  },
  {
   "cell_type": "code",
   "execution_count": 38,
   "id": "ea08ab20-a909-4e49-961a-7e56e9f05496",
   "metadata": {
    "tags": []
   },
   "outputs": [],
   "source": [
    "f= np.ones((3,2,2,3))\n",
    "g = np.ones((2,3))"
   ]
  },
  {
   "cell_type": "code",
   "execution_count": 39,
   "id": "4c9844e8-6420-48c2-b2df-6fe2cab37708",
   "metadata": {},
   "outputs": [
    {
     "name": "stdout",
     "output_type": "stream",
     "text": [
      "(3, 2, 2, 3)\n"
     ]
    }
   ],
   "source": [
    "print((f+g).shape)"
   ]
  },
  {
   "cell_type": "markdown",
   "id": "64a58f7e-14b4-42a5-85c0-d9ca4eac4fee",
   "metadata": {
    "tags": []
   },
   "source": [
    "A      (4d array):  8 x 1 x 6 x 1 <br>\n",
    "B      (3d array):      7 x 1 x 5 <br>\n",
    "Result (4d array):  8 x 7 x 6 x 5"
   ]
  },
  {
   "cell_type": "markdown",
   "id": "6ed51942-2ce8-46d7-960e-b442ed5c1e5b",
   "metadata": {},
   "source": [
    "## NumPy - Iterating over arrays\n",
    "NumPy package contains an iterator object numpy.nditer"
   ]
  },
  {
   "cell_type": "code",
   "execution_count": 69,
   "id": "e92bd738-160f-4438-9fe8-f50f877e60fd",
   "metadata": {},
   "outputs": [
    {
     "data": {
      "text/plain": [
       "array([[ 0,  5, 10, 15, 20],\n",
       "       [25, 30, 35, 40, 45],\n",
       "       [50, 55, 60, 65, 70],\n",
       "       [75, 80, 85, 90, 95]])"
      ]
     },
     "execution_count": 69,
     "metadata": {},
     "output_type": "execute_result"
    }
   ],
   "source": [
    "arr = np.arange(0,100,5).reshape(4,5)\n",
    "arr"
   ]
  },
  {
   "cell_type": "code",
   "execution_count": 54,
   "id": "456a8da8-9476-4af1-b866-cab70ad1e9ca",
   "metadata": {},
   "outputs": [
    {
     "name": "stdout",
     "output_type": "stream",
     "text": [
      "[ 0  5 10 15 20][25 30 35 40 45][50 55 60 65 70][75 80 85 90 95]"
     ]
    }
   ],
   "source": [
    "for i in arr:\n",
    "    print(i,end=\"\")"
   ]
  },
  {
   "cell_type": "code",
   "execution_count": 55,
   "id": "0a50231d-0a4e-4836-8b51-9140ca4c5f30",
   "metadata": {},
   "outputs": [
    {
     "name": "stdout",
     "output_type": "stream",
     "text": [
      "0 5 10 15 20 25 30 35 40 45 50 55 60 65 70 75 80 85 90 95 "
     ]
    }
   ],
   "source": [
    "for i in np.nditer(arr):\n",
    "    print(i,end=\" \")"
   ]
  },
  {
   "cell_type": "markdown",
   "id": "bcd8b346-9915-4ee7-a555-942e6ae38752",
   "metadata": {},
   "source": [
    "Order of the iteration doesn't follow any special ordering like row-major or column-order. However, it is intended to match the memory layout of the array."
   ]
  },
  {
   "cell_type": "code",
   "execution_count": 56,
   "id": "730ac5e5-38d4-42d5-a231-9718b78428b8",
   "metadata": {},
   "outputs": [
    {
     "data": {
      "text/plain": [
       "array([[ 0, 25, 50, 75],\n",
       "       [ 5, 30, 55, 80],\n",
       "       [10, 35, 60, 85],\n",
       "       [15, 40, 65, 90],\n",
       "       [20, 45, 70, 95]])"
      ]
     },
     "execution_count": 56,
     "metadata": {},
     "output_type": "execute_result"
    }
   ],
   "source": [
    "arr_t = arr.T\n",
    "arr_t"
   ]
  },
  {
   "cell_type": "code",
   "execution_count": 59,
   "id": "87346e02-cbb7-40a4-9709-0efbd7ac4c66",
   "metadata": {},
   "outputs": [
    {
     "name": "stdout",
     "output_type": "stream",
     "text": [
      "0 5 10 15 20 25 30 35 40 45 50 55 60 65 70 75 80 85 90 95 "
     ]
    }
   ],
   "source": [
    "for i in np.nditer(arr_t):\n",
    "    print(i,end=\" \")"
   ]
  },
  {
   "cell_type": "markdown",
   "id": "54e0bb78-e824-48c0-bd48-984a05ab295b",
   "metadata": {},
   "source": [
    "### Order of Iteration\n",
    "F-style order - column wise <br>\n",
    "C-style order - row wise\n"
   ]
  },
  {
   "cell_type": "code",
   "execution_count": 60,
   "id": "b38e421e-c3bd-4c77-8d8d-e1367416b3b9",
   "metadata": {},
   "outputs": [
    {
     "name": "stdout",
     "output_type": "stream",
     "text": [
      "0 5 10 15 20 25 30 35 40 45 50 55 60 65 70 75 80 85 90 95 "
     ]
    }
   ],
   "source": [
    "for i in np.nditer(arr_t,order='F'):\n",
    "    print(i,end=\" \")"
   ]
  },
  {
   "cell_type": "code",
   "execution_count": 61,
   "id": "72e092cf-4d31-4f20-b2a1-f90fa3a5f420",
   "metadata": {},
   "outputs": [
    {
     "name": "stdout",
     "output_type": "stream",
     "text": [
      "0 25 50 75 5 30 55 80 10 35 60 85 15 40 65 90 20 45 70 95 "
     ]
    }
   ],
   "source": [
    "for i in np.nditer(arr_t,order ='C'):\n",
    "    print(i,end=\" \")"
   ]
  },
  {
   "cell_type": "markdown",
   "id": "272e269d-b653-4d39-beef-a62f5329697e",
   "metadata": {},
   "source": [
    "### Array Modification\n",
    "The nditer object has another optional parameter called op_flags. Its default value is read-only, but can be set to read-write or write-only mode. This will enable modifying array elements using this iterator."
   ]
  },
  {
   "cell_type": "code",
   "execution_count": 73,
   "id": "36c6ef1e-d153-4b3d-b46f-40b1caec5e40",
   "metadata": {},
   "outputs": [
    {
     "name": "stdout",
     "output_type": "stream",
     "text": [
      "0 20 40 60 80 100 120 140 160 180 200 220 240 260 280 300 320 340 360 380 "
     ]
    }
   ],
   "source": [
    "for i in np.nditer(arr,op_flags=['readwrite']):\n",
    "    i[...]=i*2\n",
    "    print(i,end=\" \")"
   ]
  },
  {
   "cell_type": "markdown",
   "id": "7dea8a82-85d4-400f-916e-f550861d270d",
   "metadata": {},
   "source": [
    "### Broadcasting Iteration\n",
    "If two arrays are broadcastable, a combined nditer object is able to iterate upon them concurrently. Assuming that an array a has dimension 3X4, and there is another array b of dimension 1X4, the iterator of following type is used (array b is broadcast to size of a)."
   ]
  },
  {
   "cell_type": "code",
   "execution_count": 75,
   "id": "2ad42adf-4478-4fc4-8926-78ec37e9bcec",
   "metadata": {},
   "outputs": [
    {
     "data": {
      "text/plain": [
       "array([[ 0,  1,  2,  3],\n",
       "       [ 4,  5,  6,  7],\n",
       "       [ 8,  9, 10, 11]])"
      ]
     },
     "execution_count": 75,
     "metadata": {},
     "output_type": "execute_result"
    }
   ],
   "source": [
    "a= np.arange(1,12).reshape(3,4)\n",
    "a"
   ]
  },
  {
   "cell_type": "code",
   "execution_count": 76,
   "id": "8510f0dc-fef9-41fb-b472-de01e77cd997",
   "metadata": {},
   "outputs": [
    {
     "data": {
      "text/plain": [
       "array([10, 10, 10, 10])"
      ]
     },
     "execution_count": 76,
     "metadata": {},
     "output_type": "execute_result"
    }
   ],
   "source": [
    "b= np.full((4),10)\n",
    "b"
   ]
  },
  {
   "cell_type": "code",
   "execution_count": 78,
   "id": "07917769-84ad-4382-b7e6-aa49d976176d",
   "metadata": {},
   "outputs": [
    {
     "name": "stdout",
     "output_type": "stream",
     "text": [
      "10 11 12 13 14 15 16 17 18 19 20 21 "
     ]
    }
   ],
   "source": [
    "for x,y in np.nditer([a,b]):\n",
    "    print( x+y , end=' ')"
   ]
  },
  {
   "cell_type": "markdown",
   "id": "3b7a510e-4615-4206-8b15-66acc71abc0d",
   "metadata": {},
   "source": [
    "## NumPy - Mathematical Functions\n",
    "Numpy contains a large number of mathematical functions which can be used to perform various mathematical operations. The mathematical functions include trigonometric functions, arithmetic functions, and functions for handling complex numbers.\n",
    "\n"
   ]
  },
  {
   "cell_type": "markdown",
   "id": "2204a8f2-17ec-4e6c-9fa2-a1e25da7e69f",
   "metadata": {},
   "source": [
    "## Numpy statistical functions\n",
    "#### SAPLEM"
   ]
  },
  {
   "cell_type": "code",
   "execution_count": 79,
   "id": "df336bf5-2244-410e-a844-dc9aa6dd8f9d",
   "metadata": {},
   "outputs": [
    {
     "data": {
      "text/plain": [
       "6.0"
      ]
     },
     "execution_count": 79,
     "metadata": {},
     "output_type": "execute_result"
    }
   ],
   "source": [
    "sqrt = np.sqrt(36)\n",
    "sqrt"
   ]
  },
  {
   "cell_type": "code",
   "execution_count": 80,
   "id": "f3a890ef-996d-47d1-abe3-6a3720fa509e",
   "metadata": {},
   "outputs": [
    {
     "data": {
      "text/plain": [
       "2"
      ]
     },
     "execution_count": 80,
     "metadata": {},
     "output_type": "execute_result"
    }
   ],
   "source": [
    "np.abs(-2)"
   ]
  },
  {
   "cell_type": "code",
   "execution_count": 81,
   "id": "dce46b0f-eeaa-41c6-8945-646c8ae6faf8",
   "metadata": {},
   "outputs": [
    {
     "data": {
      "text/plain": [
       "8"
      ]
     },
     "execution_count": 81,
     "metadata": {},
     "output_type": "execute_result"
    }
   ],
   "source": [
    "np.power(2,3)"
   ]
  },
  {
   "cell_type": "code",
   "execution_count": 82,
   "id": "dfb9a1b5-b98f-4aeb-922e-c0be78542926",
   "metadata": {},
   "outputs": [
    {
     "data": {
      "text/plain": [
       "4.605170185988092"
      ]
     },
     "execution_count": 82,
     "metadata": {},
     "output_type": "execute_result"
    }
   ],
   "source": [
    "np.log(100)"
   ]
  },
  {
   "cell_type": "code",
   "execution_count": 83,
   "id": "7b09891a-a8ec-43b7-8e84-e42966eb3d89",
   "metadata": {},
   "outputs": [
    {
     "data": {
      "text/plain": [
       "array([ 2.71828183,  7.3890561 , 20.08553692])"
      ]
     },
     "execution_count": 83,
     "metadata": {},
     "output_type": "execute_result"
    }
   ],
   "source": [
    "np.exp([1,2,3])"
   ]
  },
  {
   "cell_type": "code",
   "execution_count": 84,
   "id": "11bc2958-6b9b-470a-b082-c532fe438593",
   "metadata": {},
   "outputs": [
    {
     "data": {
      "text/plain": [
       "0"
      ]
     },
     "execution_count": 84,
     "metadata": {},
     "output_type": "execute_result"
    }
   ],
   "source": [
    "np.min(a)"
   ]
  },
  {
   "cell_type": "code",
   "execution_count": 85,
   "id": "a7ce7c8d-2b0f-44c1-bb9b-5bc6c5ea8cab",
   "metadata": {},
   "outputs": [
    {
     "data": {
      "text/plain": [
       "11"
      ]
     },
     "execution_count": 85,
     "metadata": {},
     "output_type": "execute_result"
    }
   ],
   "source": [
    "np.max(a)"
   ]
  },
  {
   "cell_type": "code",
   "execution_count": 86,
   "id": "ad3740ec-84fc-4812-8c58-05be5233c3fb",
   "metadata": {},
   "outputs": [
    {
     "data": {
      "text/plain": [
       "array([[ 2, 10, 20],\n",
       "       [80, 43, 31],\n",
       "       [22, 43, 10]])"
      ]
     },
     "execution_count": 86,
     "metadata": {},
     "output_type": "execute_result"
    }
   ],
   "source": [
    "a = np.array([[2,10,20],[80,43,31],[22,43,10]])  \n",
    "a"
   ]
  },
  {
   "cell_type": "code",
   "execution_count": 87,
   "id": "bdc75c74-65a9-4501-bc8b-8984ff43c44d",
   "metadata": {},
   "outputs": [
    {
     "name": "stdout",
     "output_type": "stream",
     "text": [
      "\n",
      "The minimum element among the rows of array [ 2 10 10]\n",
      "The maximum element among the rows of array [80 43 31]\n",
      "\n",
      "The minimum element among the columns of array [ 2 31 10]\n",
      "The maximum element among the columns of array [20 80 43]\n"
     ]
    }
   ],
   "source": [
    "print(\"\\nThe minimum element among the rows of array\",np.amin(a,0))  \n",
    "print(\"The maximum element among the rows of array\",np.amax(a,0))    \n",
    "print(\"\\nThe minimum element among the columns of array\",np.amin(a,1))  \n",
    "print(\"The maximum element among the columns of array\",np.amax(a,1))  "
   ]
  },
  {
   "cell_type": "markdown",
   "id": "dd42ecd7-0098-49c5-834b-06036b7d36e8",
   "metadata": {},
   "source": [
    "### Insertion"
   ]
  },
  {
   "cell_type": "code",
   "execution_count": 88,
   "id": "cdf9181a-4955-4f41-83da-6a98f24eb84e",
   "metadata": {},
   "outputs": [
    {
     "data": {
      "text/plain": [
       "array([0., 0., 0., 0., 0., 0., 0.])"
      ]
     },
     "execution_count": 88,
     "metadata": {},
     "output_type": "execute_result"
    }
   ],
   "source": [
    "zeros = np.zeros((7))\n",
    "zeros"
   ]
  },
  {
   "cell_type": "code",
   "execution_count": 89,
   "id": "aea31b60-7355-4a12-9b09-26b5c48caf9f",
   "metadata": {},
   "outputs": [
    {
     "data": {
      "text/plain": [
       "array([0., 0., 0., 0., 0., 0., 0., 1., 1.])"
      ]
     },
     "execution_count": 89,
     "metadata": {},
     "output_type": "execute_result"
    }
   ],
   "source": [
    "np.append(zeros,[1,1])"
   ]
  },
  {
   "cell_type": "code",
   "execution_count": 90,
   "id": "196ca658-86aa-44d2-b67f-1eca611bf9cc",
   "metadata": {},
   "outputs": [
    {
     "data": {
      "text/plain": [
       "array([0., 0., 0., 3., 0., 0., 0., 0.])"
      ]
     },
     "execution_count": 90,
     "metadata": {},
     "output_type": "execute_result"
    }
   ],
   "source": [
    "np.insert(zeros,3,3)"
   ]
  },
  {
   "cell_type": "markdown",
   "id": "2854e6f0-b84f-47bc-a96d-054315ce447b",
   "metadata": {},
   "source": [
    "### Deletion"
   ]
  },
  {
   "cell_type": "code",
   "execution_count": 92,
   "id": "b3a4bdab-9519-4869-be43-6a8b1486fe6d",
   "metadata": {},
   "outputs": [
    {
     "data": {
      "text/plain": [
       "array([[[0.95859516, 0.59256458, 0.23019406, 0.36349483],\n",
       "        [0.95835672, 0.71622579, 0.61913258, 0.21470265],\n",
       "        [0.3729762 , 0.2108884 , 0.73085821, 0.38025093]],\n",
       "\n",
       "       [[0.69699393, 0.33363207, 0.75522261, 0.41446112],\n",
       "        [0.6578325 , 0.0928681 , 0.87149232, 0.26602887],\n",
       "        [0.82538007, 0.51415214, 0.30997092, 0.74679515]]])"
      ]
     },
     "execution_count": 92,
     "metadata": {},
     "output_type": "execute_result"
    }
   ],
   "source": [
    "data = np.random.rand(2,3,4)\n",
    "data"
   ]
  },
  {
   "cell_type": "code",
   "execution_count": 93,
   "id": "7b7dc67f-754d-44cf-9d4d-415d118b55cf",
   "metadata": {},
   "outputs": [
    {
     "data": {
      "text/plain": [
       "array([[[0.95835672, 0.71622579, 0.61913258, 0.21470265],\n",
       "        [0.3729762 , 0.2108884 , 0.73085821, 0.38025093]],\n",
       "\n",
       "       [[0.6578325 , 0.0928681 , 0.87149232, 0.26602887],\n",
       "        [0.82538007, 0.51415214, 0.30997092, 0.74679515]]])"
      ]
     },
     "execution_count": 93,
     "metadata": {},
     "output_type": "execute_result"
    }
   ],
   "source": [
    "np.delete(data,0,axis=1)"
   ]
  },
  {
   "cell_type": "markdown",
   "id": "e049a3ab-267e-469d-9cc2-c74fe7beb277",
   "metadata": {},
   "source": [
    "## Saving"
   ]
  },
  {
   "cell_type": "code",
   "execution_count": 94,
   "id": "de8f52ee-4fcd-4065-953f-ed03f737c64d",
   "metadata": {},
   "outputs": [
    {
     "data": {
      "text/plain": [
       "array([[[0.95859516, 0.59256458, 0.23019406, 0.36349483],\n",
       "        [0.95835672, 0.71622579, 0.61913258, 0.21470265],\n",
       "        [0.3729762 , 0.2108884 , 0.73085821, 0.38025093]],\n",
       "\n",
       "       [[0.69699393, 0.33363207, 0.75522261, 0.41446112],\n",
       "        [0.6578325 , 0.0928681 , 0.87149232, 0.26602887],\n",
       "        [0.82538007, 0.51415214, 0.30997092, 0.74679515]]])"
      ]
     },
     "execution_count": 94,
     "metadata": {},
     "output_type": "execute_result"
    }
   ],
   "source": [
    "np.save(\"new array\",data)\n",
    "t = np.load(\"new array.npy\")\n",
    "t"
   ]
  },
  {
   "cell_type": "code",
   "execution_count": null,
   "id": "303a316b-cfa7-4b3c-8d6d-267fdb76a45d",
   "metadata": {},
   "outputs": [],
   "source": []
  }
 ],
 "metadata": {
  "kernelspec": {
   "display_name": "Python 3",
   "language": "python",
   "name": "python3"
  },
  "language_info": {
   "codemirror_mode": {
    "name": "ipython",
    "version": 3
   },
   "file_extension": ".py",
   "mimetype": "text/x-python",
   "name": "python",
   "nbconvert_exporter": "python",
   "pygments_lexer": "ipython3",
   "version": "3.8.8"
  }
 },
 "nbformat": 4,
 "nbformat_minor": 5
}
